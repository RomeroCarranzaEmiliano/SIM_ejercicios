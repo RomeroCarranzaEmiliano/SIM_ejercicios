{
 "cells": [
  {
   "cell_type": "markdown",
   "metadata": {},
   "source": [
    "# Ejercicios prácticos U2"
   ]
  },
  {
   "cell_type": "markdown",
   "metadata": {},
   "source": [
    "1) Generar  números  aleatorios  con  el  generador  del  lenguaje  de  programación  que  elijas  (por parámetro se pueda señalar la cantidad de números a generar).  a.¿Los valores generados dentro de que rango se encuentran?, b.¿Cual fue el valor de la media y de la varianza de la muestra?, c.Construir la tabla de frecuencias (histograma) de los valores generados. d.Graficar la tabla del punto c."
   ]
  },
  {
   "cell_type": "code",
   "execution_count": 69,
   "metadata": {},
   "outputs": [
    {
     "name": "stdout",
     "output_type": "stream",
     "text": [
      "Serie aleatoria:\n",
      "[0.5, 0.3, 0.4, 0.6, 1.0, 0.5, 0.4, 0.5, 0.1, 0.8]\n",
      "\n",
      "Media: 0.51\n",
      "Varianza: 0.06\n"
     ]
    },
    {
     "data": {
      "image/png": "[encoded data removed]",
      "text/plain": [
       "<Figure size 432x288 with 1 Axes>"
      ]
     },
     "metadata": {
      "needs_background": "light"
     },
     "output_type": "display_data"
    }
   ],
   "source": [
    "import random\n",
    "import pandas as pd\n",
    "import numpy as np\n",
    "import matplotlib\n",
    "import matplotlib.pyplot as plt\n",
    "from matplotlib.ticker import FormatStrFormatter\n",
    "\n",
    "\n",
    "def generar_serie_aleatoria(n):\n",
    "\t\"\"\"\n",
    "\t\"\"\"\n",
    "\n",
    "\tv = []\n",
    "\tfor i in range(n):\n",
    "\t\trandom_number = random.random()\n",
    "\t\tv.append(round(random_number, 1))\n",
    "\n",
    "\n",
    "\treturn v\n",
    "\n",
    "def calcular_media(v):\n",
    "\t\"\"\"\n",
    "\t\"\"\"\n",
    "\n",
    "\tsuma = 0\n",
    "\tcantidad = len(v)\n",
    "\tfor numero in v:\n",
    "\t\tsuma += numero\n",
    "\n",
    "\tmedia = suma/cantidad\n",
    "\treturn media\n",
    "\n",
    "def calcular_varianza(v, media):\n",
    "\t\"\"\"\n",
    "\t\"\"\"\n",
    "\n",
    "\tsuma = 0\n",
    "\tcantidad = len(v) - 1\n",
    "\tfor numero in v:\n",
    "\t\tsuma += (numero - media)**2\n",
    "\n",
    "\tvarianza = suma/cantidad\n",
    "\treturn varianza\n",
    "\n",
    "v = generar_serie_aleatoria(10)\n",
    "\n",
    "print('Serie aleatoria:')\n",
    "print(v)\n",
    "\n",
    "mu = calcular_media(v)\n",
    "print('\\nMedia:', mu)\n",
    "\n",
    "var = round(calcular_varianza(v, mu), 2)\n",
    "print('Varianza:', var)\n",
    "\n",
    "# Se genera el histograma\n",
    "fig, axs = plt.subplots()\n",
    "N, bins, patches = axs.hist(v, bins=len(v), rwidth=1)\n",
    "\n",
    "axs.xaxis.set_major_formatter(FormatStrFormatter('%.2f'))\n",
    "axs.xaxis.set_ticks(v)\n",
    "\n",
    "axs.set_xlabel('Valores')\n",
    "axs.set_ylabel('Ocurrencias')\n",
    "axs.set_title(r'Histograma de los valores generados aleatoriamente')\n",
    "\n",
    "# Se imprime el histograma\n",
    "plt.show()"
   ]
  },
  {
   "cell_type": "markdown",
   "metadata": {},
   "source": [
    "2) Generar números aleatorios de 5 dígitos producidos por redondeo, calcule el valor de la media y varianza. a.Valide  los  resultados  calculando  el  error  absoluto  y  el  error  relativo  de  la  muestra. b.¿Existen errores de redondeo?. Justifique su respuesta"
   ]
  },
  {
   "cell_type": "code",
   "execution_count": 71,
   "metadata": {},
   "outputs": [
    {
     "name": "stdout",
     "output_type": "stream",
     "text": [
      "[0.7455195066609368, 0.6609607305364793, 0.552169214936575, 0.4796732614656718, 0.8360504511772909, 0.14227822734845696, 0.19056768508725663, 0.8139274297736314, 0.28604008492409927, 0.747854156975449]\n",
      "----------------------------------------------------------------------------------------\n",
      "[0.74552, 0.66096, 0.55217, 0.47967, 0.83605, 0.14228, 0.19057, 0.81393, 0.28604, 0.74785]\n",
      "\n",
      "media:  0.545504\n",
      "\n",
      "varianza:  0.06789086049333333\n",
      "----------------------------------------------------------------------------------------\n",
      "\n",
      "error absoluto:  [-4.933390631567391e-07, 7.305364793097624e-07, -7.850634250461397e-07, 3.26146567181107e-06, 4.5117729097210457e-07, -1.7726515430249723e-06, -2.3149127433563788e-06, -2.5702263686255833e-06, 8.492409925286992e-08, 4.156975448976752e-06]\n",
      "\n",
      "error relativo(%):  [-6.617386382904001e-05, 0.00011052645725515506, -0.0001421780504616354, 0.0006799348502031272, 5.396531875998341e-05, -0.001245904996189986, -0.0012147456911681708, -0.0003157807778195179, 2.9689579792777828e-05, 0.0005558537597476]\n"
     ]
    }
   ],
   "source": [
    "import random\n",
    "import pandas as pd\n",
    "import numpy as np\n",
    "import matplotlib\n",
    "import matplotlib.pyplot as plt\n",
    "\n",
    "\n",
    "def generar_serie_aleatoria(n):\n",
    "\t\"\"\"\t\n",
    "\t\tEl ejercicio pide de 5 digitos por redondeo, se asume que se piden\n",
    "\t\t5 digitos decimales -> 0,00000\n",
    "\t\"\"\"\n",
    "\tv = []\n",
    "\tv_round = []\n",
    "\tfor i in range(n):\n",
    "\t\trandom_number = random.random()\n",
    "\n",
    "\t\tv.append(random_number)\n",
    "\n",
    "\t\t# Redondeo\n",
    "\t\trandom_number = round(random_number, 5)\n",
    "\n",
    "\n",
    "\t\tv_round.append(random_number)\n",
    "\n",
    "\n",
    "\treturn v, v_round\n",
    "\n",
    "def calcular_media(v):\n",
    "\t\"\"\"\n",
    "\t\"\"\"\n",
    "\n",
    "\tsuma = 0\n",
    "\tcantidad = len(v)\n",
    "\tfor numero in v:\n",
    "\t\tsuma += numero\n",
    "\n",
    "\tmedia = suma/cantidad\n",
    "\treturn media\n",
    "\n",
    "def calcular_varianza(v, media):\n",
    "\t\"\"\"\n",
    "\t\"\"\"\n",
    "\n",
    "\tsuma = 0\n",
    "\tcantidad = len(v) - 1\n",
    "\tfor numero in v:\n",
    "\t\tsuma += (numero - media)**2\n",
    "\n",
    "\tvarianza = suma/cantidad\n",
    "\treturn varianza\n",
    "\n",
    "def calcular_error_absoluto(v, v_round):\n",
    "\t\"\"\"\n",
    "\t\"\"\"\n",
    "\n",
    "\tl = len(v)\n",
    "\tv_abs_error = []\n",
    "\tfor i in range(l):\n",
    "\t\terror = v[i] - v_round[i]\n",
    "\t\tv_abs_error.append(error)\n",
    "\n",
    "\treturn v_abs_error\n",
    "\n",
    "def calcular_error_relativo(v, v_abs_error):\n",
    "\t\"\"\"\n",
    "\t\"\"\"\n",
    "\n",
    "\tl = len(v)\n",
    "\tv_rel_error = []\n",
    "\tfor i in range(l):\n",
    "\t\terror = (v_abs_error[i]/v[i])*100\n",
    "\t\tv_rel_error.append(error)\n",
    "\n",
    "\treturn(v_rel_error)\n",
    "\n",
    "v, v_round = generar_serie_aleatoria(10)\n",
    "print(v)\n",
    "print('-'*88)\n",
    "print(v_round)\n",
    "print('\\nmedia: ', calcular_media(v_round))\n",
    "print('\\nvarianza: ', calcular_varianza(v_round, calcular_media(v_round))) \n",
    "print('-'*88)\n",
    "error_absoluto = calcular_error_absoluto(v, v_round)\n",
    "print('\\nerror absoluto: ', error_absoluto)\n",
    "print('\\nerror relativo(%): ', calcular_error_relativo(v, error_absoluto))"
   ]
  },
  {
   "cell_type": "markdown",
   "metadata": {},
   "source": [
    "Existen errores de redondeo pero estan por debajo del 1e-02(%)"
   ]
  }
 ],
 "metadata": {
  "kernelspec": {
   "display_name": "Python 3",
   "language": "python",
   "name": "python3"
  },
  "language_info": {
   "codemirror_mode": {
    "name": "ipython",
    "version": 3
   },
   "file_extension": ".py",
   "mimetype": "text/x-python",
   "name": "python",
   "nbconvert_exporter": "python",
   "pygments_lexer": "ipython3",
   "version": "3.8.6"
  }
 },
 "nbformat": 4,
 "nbformat_minor": 4
}
